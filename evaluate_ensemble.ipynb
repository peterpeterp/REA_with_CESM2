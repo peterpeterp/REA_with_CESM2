{
 "cells": [
  {
   "cell_type": "code",
   "execution_count": 1,
   "id": "a713117b",
   "metadata": {},
   "outputs": [],
   "source": [
    "import os,sys,subprocess,glob,cftime,importlib,pickle,itertools\n",
    "from datetime import datetime\n",
    "import xarray as xr\n",
    "import numpy as np\n",
    "import pandas as pd\n",
    "sys.path.append('../')\n",
    "\n",
    "def import_from(module, name):\n",
    "    module = __import__(module, fromlist=[name])\n",
    "    return getattr(module, name)\n",
    "\n",
    "from ensembles.ensemble_GKLT import ensemble_GKLT,get_weight_for_selection\n",
    "\n",
    "%load_ext autoreload\n",
    "%autoreload 2"
   ]
  },
  {
   "cell_type": "code",
   "execution_count": 18,
   "id": "e18fde7c",
   "metadata": {},
   "outputs": [],
   "source": [
    "class cmd:\n",
    "    project_path = '../REA_heat_wEU_JJA'\n",
    "    experiment_identifiers = ['c12_wet']\n",
    "command_line_arguments = cmd"
   ]
  },
  {
   "cell_type": "code",
   "execution_count": 2,
   "id": "82e71cb5",
   "metadata": {},
   "outputs": [],
   "source": [
    "class cmd:\n",
    "    project_path = '../REA_low_u500_atl_jja'\n",
    "    experiment_identifiers = ['c2']\n",
    "command_line_arguments = cmd"
   ]
  },
  {
   "cell_type": "code",
   "execution_count": 3,
   "id": "87a36e9a",
   "metadata": {},
   "outputs": [
    {
     "name": "stdout",
     "output_type": "stream",
     "text": [
      "c2\n"
     ]
    }
   ],
   "source": [
    "sys.path.append(command_line_arguments.project_path)\n",
    "from experiment_configuration.experiment import experiment\n",
    "\n",
    "for experiment_identifier in command_line_arguments.experiment_identifiers:\n",
    "    print(experiment_identifier)\n",
    "    exp = experiment(importlib.import_module(f\"experiment_configuration.{experiment_identifier}\").config)\n",
    "\n",
    "    exp_new_name = ''.join(exp.experiment_identifier.split('_')[0][1:])\n",
    "\n",
    "    naming_d = {\n",
    "        \"project\": 'REA_output',\n",
    "        \"product\": exp.product_name,\n",
    "        \"institute\": 'NCAR',\n",
    "        \"model\": 'CESM2',\n",
    "        \"experiment\" : f\"{exp.initial_conditions_name}-x{exp_new_name}\",\n",
    "        \"realm\": \"meta\",\n",
    "    }\n",
    "    out_dir = '/'.join([exp.dir_work] + [v for k,v in naming_d.items()])\n",
    "    os.makedirs(out_dir, exist_ok=True)\n",
    "\n",
    "    obs = xr.open_mfdataset(f\"{exp.dir_work}/REA_output/{exp.product_name}/NCAR/CESM2/{exp.initial_conditions_name}-x{exp_new_name}/meta/obs/*/*\", concat_dim='sim', combine='nested')['obs'].load()\n",
    "\n",
    "    ens = ensemble_GKLT(exp)\n",
    "    ens.evaluate_weights_and_probabilities(obs)\n",
    "    xr.Dataset({'probability':ens._prob}).to_netcdf(f\"{out_dir}/probability_season_{naming_d['experiment']}.nc\")\n",
    "    xr.Dataset({'weight':ens._weight_from_algo}).to_netcdf(f\"{out_dir}/weight_season_{naming_d['experiment']}.nc\")"
   ]
  },
  {
   "cell_type": "code",
   "execution_count": null,
   "id": "69c1f161",
   "metadata": {},
   "outputs": [],
   "source": []
  }
 ],
 "metadata": {
  "kernelspec": {
   "display_name": "py_imps",
   "language": "python",
   "name": "python3"
  },
  "language_info": {
   "codemirror_mode": {
    "name": "ipython",
    "version": 3
   },
   "file_extension": ".py",
   "mimetype": "text/x-python",
   "name": "python",
   "nbconvert_exporter": "python",
   "pygments_lexer": "ipython3",
   "version": "3.9.20"
  }
 },
 "nbformat": 4,
 "nbformat_minor": 5
}
