{
 "cells": [
  {
   "cell_type": "code",
   "execution_count": 6,
   "id": "a713117b",
   "metadata": {},
   "outputs": [
    {
     "name": "stdout",
     "output_type": "stream",
     "text": [
      "The autoreload extension is already loaded. To reload it, use:\n",
      "  %reload_ext autoreload\n"
     ]
    }
   ],
   "source": [
    "import os,sys,subprocess,glob,cftime,importlib,pickle,itertools\n",
    "from datetime import datetime\n",
    "import xarray as xr\n",
    "import numpy as np\n",
    "import pandas as pd\n",
    "sys.path.append('../')\n",
    "\n",
    "def import_from(module, name):\n",
    "    module = __import__(module, fromlist=[name])\n",
    "    return getattr(module, name)\n",
    "\n",
    "from ensembles.ensemble_GKLT import ensemble_GKLT,get_weight_for_selection\n",
    "\n",
    "%load_ext autoreload\n",
    "%autoreload 2"
   ]
  },
  {
   "cell_type": "code",
   "execution_count": 7,
   "id": "77d38218",
   "metadata": {},
   "outputs": [
    {
     "name": "stderr",
     "output_type": "stream",
     "text": [
      "usage: ipykernel_launcher.py [-h] [--project_path PROJECT_PATH]\n",
      "                             [--experiment_identifiers EXPERIMENT_IDENTIFIERS [EXPERIMENT_IDENTIFIERS ...]]\n",
      "                             [--overwrite]\n",
      "ipykernel_launcher.py: error: unrecognized arguments: --f=/home/u/u290372/.local/share/jupyter/runtime/kernel-v33abaabb5995408a3c68d73928a40f62d8981741d.json\n"
     ]
    },
    {
     "ename": "SystemExit",
     "evalue": "2",
     "output_type": "error",
     "traceback": [
      "An exception has occurred, use %tb to see the full traceback.\n",
      "\u001b[0;31mSystemExit\u001b[0m\u001b[0;31m:\u001b[0m 2\n"
     ]
    },
    {
     "name": "stderr",
     "output_type": "stream",
     "text": [
      "/home/u/u290372/.conda/envs/py_imps/lib/python3.9/site-packages/IPython/core/interactiveshell.py:3558: UserWarning: To exit: use 'exit', 'quit', or Ctrl-D.\n",
      "  warn(\"To exit: use 'exit', 'quit', or Ctrl-D.\", stacklevel=1)\n"
     ]
    }
   ],
   "source": [
    "\n",
    "import argparse\n",
    "parser = argparse.ArgumentParser()\n",
    "parser.add_argument(\"--project_path\", type=str)\n",
    "parser.add_argument(\"--experiment_identifiers\", nargs='+', default=[f\"c{i}\" for i in range(1,6)] + [f\"p{i}\" for i in range(1,6)] + ['c1_initial', 'p1_initial'])\n",
    "parser.add_argument(\"--overwrite\", action='store_true')\n",
    "command_line_arguments = parser.parse_args()\n"
   ]
  },
  {
   "cell_type": "code",
   "execution_count": 21,
   "id": "e254b91d",
   "metadata": {},
   "outputs": [],
   "source": [
    "project_path = '../REA_heat_wEU_JJA'\n",
    "experiment_identifiers = ['c8_wet','c6_dry','c9_dry']"
   ]
  },
  {
   "cell_type": "code",
   "execution_count": 22,
   "id": "6eb6a49e",
   "metadata": {},
   "outputs": [
    {
     "name": "stdout",
     "output_type": "stream",
     "text": [
      "c8_wet\n",
      "c6_dry\n",
      "c9_dry\n"
     ]
    }
   ],
   "source": [
    "\n",
    "sys.path.append(project_path)\n",
    "from experiment_configuration.experiment import experiment\n",
    "\n",
    "for experiment_identifier in experiment_identifiers:\n",
    "    print(experiment_identifier)\n",
    "\n",
    "    exp = experiment(import_from(f'experiment_configuration.{experiment_identifier}', 'config'))\n",
    "    ens = ensemble_GKLT(exp)\n",
    "    obs = xr.open_mfdataset(f\"{exp.dir_work}/REA_output/{exp.product_name}/NCAR/CESM2/{exp.initial_conditions_name}-x{exp.experiment_identifier[1]}/day/atmos/tas-reg/*/*\", concat_dim='sim', combine='nested')['tas'].load()\n",
    "\n",
    "    x = xr.DataArray(\n",
    "        obs.values.reshape((-1, exp.n_steps, exp.n_days)),\n",
    "        dims=['sim','step','time'],\n",
    "        coords=dict(sim=obs.sim, step=np.arange(0,exp.n_steps,1,'int'), time=np.arange(0,exp.n_days,1,'int'))\n",
    "    )\n",
    "    time_sum_over_each_step = x.mean('time')\n",
    "\n",
    "    scores = np.exp(exp.k * time_sum_over_each_step)\n",
    "\n",
    "\n",
    "    mean_scores = np.array([\n",
    "                pd.read_table(f\"{exp.dir_work}/GKLT/{exp.experiment_name}/book_keeping/step{step}_evaluation.csv\", sep=',')['score'].values.mean()\n",
    "                for step in range(exp.n_steps)\n",
    "            ])\n",
    "\n",
    "\n",
    "    weight_from_algo = obs.mean('time').copy() * np.nan\n",
    "    weight_from_algo[:] = np.array(\n",
    "        [\n",
    "            np.prod(mean_scores[:-1]) / (np.prod(scores[i,:-1]) * exp.n_members)\n",
    "            for i in range(exp.n_members)\n",
    "        ]\n",
    "    )\n",
    "\n",
    "\n",
    "    prob = obs.mean('time').copy() * np.nan\n",
    "    prob[:] = np.array([np.sum((obs.mean('time') >= a).astype(float) * weight_from_algo) for a in obs.mean('time')]) \n",
    "\n",
    "\n",
    "    naming_d = {\n",
    "        \"project\": 'REA_output',\n",
    "        \"product\": exp.product_name,\n",
    "        \"institute\": 'NCAR',\n",
    "        \"model\": 'CESM2',\n",
    "        \"experiment\" : f\"{exp.initial_conditions_name}-x{experiment_identifier[1]}\",\n",
    "        \"realm\": 'meta',\n",
    "    }\n",
    "    out_dir = '/'.join([exp.dir_work] + [v for k,v in naming_d.items()])\n",
    "\n",
    "    os.makedirs(out_dir, exist_ok=True)\n",
    "    xr.Dataset({'probability':prob}).to_netcdf(f\"{out_dir}/probability_season_{naming_d['experiment']}.nc\")\n",
    "    xr.Dataset({'weight':weight_from_algo}).to_netcdf(f\"{out_dir}/weight_season_{naming_d['experiment']}.nc\")\n",
    "    ens.get_weights_uniqueness()\n",
    "    xr.Dataset({'uniqueness':ens._uniq_seas}).to_netcdf(f\"{out_dir}/uniqueness_season_{naming_d['experiment']}.nc\")\n",
    "    xr.Dataset({'uniqueness':ens._uniq_daily}).to_netcdf(f\"{out_dir}/uniqueness_day_{naming_d['experiment']}.nc\")"
   ]
  },
  {
   "cell_type": "code",
   "execution_count": null,
   "id": "76335200",
   "metadata": {},
   "outputs": [],
   "source": []
  }
 ],
 "metadata": {
  "kernelspec": {
   "display_name": "py_imps",
   "language": "python",
   "name": "python3"
  },
  "language_info": {
   "codemirror_mode": {
    "name": "ipython",
    "version": 3
   },
   "file_extension": ".py",
   "mimetype": "text/x-python",
   "name": "python",
   "nbconvert_exporter": "python",
   "pygments_lexer": "ipython3",
   "version": "3.9.20"
  }
 },
 "nbformat": 4,
 "nbformat_minor": 5
}
