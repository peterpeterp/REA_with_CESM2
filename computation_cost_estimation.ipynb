{
 "cells": [
  {
   "cell_type": "code",
   "execution_count": 1,
   "id": "ca792f3b-2a80-48d9-b288-e56f7f823b1d",
   "metadata": {},
   "outputs": [],
   "source": [
    "import os,sys\n",
    "import datetime\n",
    "import numpy as np\n",
    "import subprocess\n",
    "import pandas as pd\n",
    "import xarray as xr\n",
    "\n",
    "%load_ext autoreload\n",
    "%autoreload 2"
   ]
  },
  {
   "cell_type": "markdown",
   "id": "2136c4e3",
   "metadata": {},
   "source": [
    "# Estimation of storage"
   ]
  },
  {
   "cell_type": "code",
   "execution_count": 2,
   "id": "184478a9",
   "metadata": {},
   "outputs": [
    {
     "data": {
      "text/plain": [
       "0.0002111111111111111"
      ]
     },
     "execution_count": 2,
     "metadata": {},
     "output_type": "execute_result"
    }
   ],
   "source": [
    "# /work/bb1152/u290372/cesm215_archive/GKLT/initial_piControl/001_0501/atm/hist/001_0501.cam.h1.0501-06-01-00000.nc\n",
    "size_mb = 323\n",
    "variables = 17\n",
    "days = 90\n",
    "size_per_grid_gb = size_mb / variables / days / 10**3\n",
    "size_per_grid_gb"
   ]
  },
  {
   "cell_type": "code",
   "execution_count": 3,
   "id": "dfdc122d",
   "metadata": {},
   "outputs": [
    {
     "data": {
      "text/plain": [
       "0.0002111111111111111"
      ]
     },
     "execution_count": 3,
     "metadata": {},
     "output_type": "execute_result"
    }
   ],
   "source": [
    "# /work/bb1152/u290372/REA_output/heat_wEU_JJA/NCAR/CESM2/piControl-x5/day/atmos/tas/ens001/tas_day_CESM2_piControl-x5_ens001_1850.nc\n",
    "size_mb = 19\n",
    "variables = 1\n",
    "days = 90\n",
    "size_per_grid_gb = size_mb / variables / days / 10**3\n",
    "size_per_grid_gb"
   ]
  },
  {
   "cell_type": "code",
   "execution_count": 4,
   "id": "2ca74dae",
   "metadata": {},
   "outputs": [
    {
     "data": {
      "text/plain": [
       "0.07705555555555556"
      ]
     },
     "execution_count": 4,
     "metadata": {},
     "output_type": "execute_result"
    }
   ],
   "source": [
    "# size of daily variable for one year\n",
    "size_per_grid_gb * 365"
   ]
  },
  {
   "cell_type": "code",
   "execution_count": 5,
   "id": "c6b9ada6",
   "metadata": {},
   "outputs": [
    {
     "data": {
      "text/plain": [
       "71.82"
      ]
     },
     "execution_count": 5,
     "metadata": {},
     "output_type": "execute_result"
    }
   ],
   "source": [
    "# one ensemble (126 members) 90 days 30 variables\n",
    "size_per_grid_gb * 126 * 90 * 30"
   ]
  },
  {
   "cell_type": "markdown",
   "id": "aea9df89",
   "metadata": {},
   "source": [
    "## Re-estimate past computation cost"
   ]
  },
  {
   "cell_type": "code",
   "execution_count": 6,
   "id": "be32c9c2",
   "metadata": {},
   "outputs": [],
   "source": [
    "base = 185404\n",
    "per_day = 46879\n",
    "\n",
    "def estimated_node_hours(ndays):\n",
    "    return (base + ndays * per_day) / 60 / 60 / 256\n"
   ]
  },
  {
   "cell_type": "markdown",
   "id": "24436872",
   "metadata": {},
   "source": [
    "### preparation of restart files for 1. of June\n",
    "\n",
    "in March 2025, 126 runs from 1.1 to 15.3 were simulated. Additionally, all summers (126*2) were resimulated"
   ]
  },
  {
   "cell_type": "code",
   "execution_count": 7,
   "id": "78eeb7db",
   "metadata": {},
   "outputs": [
    {
     "data": {
      "text/plain": [
       "1855"
      ]
     },
     "execution_count": 7,
     "metadata": {},
     "output_type": "execute_result"
    }
   ],
   "source": [
    "cpuh = 1855\n",
    "cpuh"
   ]
  },
  {
   "cell_type": "code",
   "execution_count": 8,
   "id": "a4df63fc",
   "metadata": {},
   "outputs": [
    {
     "data": {
      "text/plain": [
       "1697.5818945312499"
      ]
     },
     "execution_count": 8,
     "metadata": {},
     "output_type": "execute_result"
    }
   ],
   "source": [
    "estimated_node_hours(73) * 126 + estimated_node_hours(90) * 126 * 2"
   ]
  },
  {
   "cell_type": "markdown",
   "id": "5754ac17",
   "metadata": {},
   "source": [
    "### summer ensembles simulated in December\n",
    "in December, 7 full 126 member summer ensembles were simulated"
   ]
  },
  {
   "cell_type": "code",
   "execution_count": 9,
   "id": "c0a07998",
   "metadata": {},
   "outputs": [
    {
     "data": {
      "text/plain": [
       "8059"
      ]
     },
     "execution_count": 9,
     "metadata": {},
     "output_type": "execute_result"
    }
   ],
   "source": [
    "cpuh_1152 = 6798\n",
    "cpuh_1445 = 1261\n",
    "cpuh = cpuh_1152 + cpuh_1445\n",
    "cpuh"
   ]
  },
  {
   "cell_type": "code",
   "execution_count": 10,
   "id": "c17ebcd4",
   "metadata": {},
   "outputs": [
    {
     "data": {
      "text/plain": [
       "7231.693710937499"
      ]
     },
     "execution_count": 10,
     "metadata": {},
     "output_type": "execute_result"
    }
   ],
   "source": [
    "estimated_node_hours(5) * 18 * 126 * 7"
   ]
  },
  {
   "cell_type": "markdown",
   "id": "aa7b9e7e",
   "metadata": {},
   "source": [
    "### re-esitmation"
   ]
  },
  {
   "cell_type": "code",
   "execution_count": 11,
   "id": "846ae282",
   "metadata": {},
   "outputs": [],
   "source": [
    "from scipy.optimize import minimize\n",
    "\n",
    "def estimated_error(p):\n",
    "    def estimated_node_hours_explicit(ndays):\n",
    "        return (base + ndays * per_day) / 60 / 60 / 256\n",
    "    base, per_day = p\n",
    "    \n",
    "    error = 0\n",
    "    for i in range(126):\n",
    "        error += (estimated_node_hours_explicit(73) + estimated_node_hours_explicit(90) * 2 - 1855 / 126) ** 2\n",
    "    for i in range(126):\n",
    "        error += (estimated_node_hours_explicit(5) * 18 * 7 - 8059 / 126) ** 2\n",
    "    return error"
   ]
  },
  {
   "cell_type": "code",
   "execution_count": 12,
   "id": "909f786d",
   "metadata": {},
   "outputs": [
    {
     "data": {
      "text/plain": [
       " message: Optimization terminated successfully.\n",
       " success: True\n",
       "  status: 0\n",
       "     fun: 2.607567100433571e-23\n",
       "       x: [ 2.123e+05  5.111e+04]\n",
       "     nit: 4\n",
       "   direc: [[ 0.000e+00  1.000e+00]\n",
       "           [-1.873e+04  3.257e+03]]\n",
       "    nfev: 86"
      ]
     },
     "execution_count": 12,
     "metadata": {},
     "output_type": "execute_result"
    }
   ],
   "source": [
    "res = minimize(estimated_error, [185404, 46879], method='Powell')\n",
    "res"
   ]
  },
  {
   "cell_type": "code",
   "execution_count": 13,
   "id": "70e333c1",
   "metadata": {},
   "outputs": [
    {
     "name": "stdout",
     "output_type": "stream",
     "text": [
      "node hours per started simulations 212267\n",
      "node hours per simulated day 51111\n"
     ]
    }
   ],
   "source": [
    "base, per_day = res.x\n",
    "print(f\"node hours per started simulations {base:.0f}\")\n",
    "print(f\"node hours per simulated day {per_day:.0f}\")"
   ]
  },
  {
   "cell_type": "markdown",
   "id": "4cb4a350",
   "metadata": {},
   "source": [
    "# Estimates for requests"
   ]
  },
  {
   "cell_type": "markdown",
   "id": "c51b3d29",
   "metadata": {},
   "source": [
    "## 2025 - October"
   ]
  },
  {
   "cell_type": "code",
   "execution_count": 64,
   "id": "59db29fa",
   "metadata": {},
   "outputs": [],
   "source": [
    "tab = pd.DataFrame(index=['node hours', 'storage (Gb)'])"
   ]
  },
  {
   "cell_type": "code",
   "execution_count": 65,
   "id": "d6b52fc5",
   "metadata": {},
   "outputs": [],
   "source": [
    "n_sims = 18 * 126 * 8\n",
    "n_days = 5\n",
    "n_variables = 42\n",
    "tab['8 EKE summer ensembles - current climate'] = [estimated_node_hours(n_days) * n_sims, size_per_grid_gb * n_sims * n_days * n_variables]"
   ]
  },
  {
   "cell_type": "code",
   "execution_count": 66,
   "id": "97ebd771",
   "metadata": {},
   "outputs": [],
   "source": [
    "n_sims = 18 * 126 * 8\n",
    "n_days = 5\n",
    "n_variables = 42\n",
    "tab['8 EKE summer ensembles - pre-industrial'] = [estimated_node_hours(n_days) * n_sims, size_per_grid_gb * n_sims * n_days * n_variables]"
   ]
  },
  {
   "cell_type": "code",
   "execution_count": 67,
   "id": "4d2de689",
   "metadata": {},
   "outputs": [],
   "source": [
    "n_sims = 18 * 100 * 5\n",
    "n_days = 5\n",
    "n_variables = 42\n",
    "tab['5 hot summers from wet conditions - current climate'] = [estimated_node_hours(n_days) * n_sims, size_per_grid_gb * n_sims * n_days * n_variables]"
   ]
  },
  {
   "cell_type": "code",
   "execution_count": 68,
   "id": "d3ce2fed",
   "metadata": {},
   "outputs": [],
   "source": [
    "n_sims = 18 * 100 * 5\n",
    "n_days = 5\n",
    "n_variables = 42\n",
    "tab['5 hot summers from wet conditions - pre-industrial'] = [estimated_node_hours(n_days) * n_sims, size_per_grid_gb * n_sims * n_days * n_variables]"
   ]
  },
  {
   "cell_type": "code",
   "execution_count": 69,
   "id": "b1bba110",
   "metadata": {},
   "outputs": [],
   "source": [
    "tab['sum'] = tab.sum(axis=1)"
   ]
  },
  {
   "cell_type": "code",
   "execution_count": 70,
   "id": "52c7df31",
   "metadata": {},
   "outputs": [
    {
     "data": {
      "text/html": [
       "<div>\n",
       "<style scoped>\n",
       "    .dataframe tbody tr th:only-of-type {\n",
       "        vertical-align: middle;\n",
       "    }\n",
       "\n",
       "    .dataframe tbody tr th {\n",
       "        vertical-align: top;\n",
       "    }\n",
       "\n",
       "    .dataframe thead th {\n",
       "        text-align: right;\n",
       "    }\n",
       "</style>\n",
       "<table border=\"1\" class=\"dataframe\">\n",
       "  <thead>\n",
       "    <tr style=\"text-align: right;\">\n",
       "      <th></th>\n",
       "      <th>node hours</th>\n",
       "      <th>storage (Gb)</th>\n",
       "    </tr>\n",
       "  </thead>\n",
       "  <tbody>\n",
       "    <tr>\n",
       "      <th>8 EKE summer ensembles - current climate</th>\n",
       "      <td>9210.0</td>\n",
       "      <td>804.0</td>\n",
       "    </tr>\n",
       "    <tr>\n",
       "      <th>8 EKE summer ensembles - pre-industrial</th>\n",
       "      <td>9210.0</td>\n",
       "      <td>804.0</td>\n",
       "    </tr>\n",
       "    <tr>\n",
       "      <th>5 hot summers from wet conditions - current climate</th>\n",
       "      <td>4569.0</td>\n",
       "      <td>399.0</td>\n",
       "    </tr>\n",
       "    <tr>\n",
       "      <th>5 hot summers from wet conditions - pre-industrial</th>\n",
       "      <td>4569.0</td>\n",
       "      <td>399.0</td>\n",
       "    </tr>\n",
       "    <tr>\n",
       "      <th>sum</th>\n",
       "      <td>27558.0</td>\n",
       "      <td>2407.0</td>\n",
       "    </tr>\n",
       "  </tbody>\n",
       "</table>\n",
       "</div>"
      ],
      "text/plain": [
       "                                                    node hours  storage (Gb)\n",
       "8 EKE summer ensembles - current climate                9210.0         804.0\n",
       "8 EKE summer ensembles - pre-industrial                 9210.0         804.0\n",
       "5 hot summers from wet conditions - current cli...      4569.0         399.0\n",
       "5 hot summers from wet conditions - pre-industrial      4569.0         399.0\n",
       "sum                                                    27558.0        2407.0"
      ]
     },
     "execution_count": 70,
     "metadata": {},
     "output_type": "execute_result"
    }
   ],
   "source": [
    "tab.round().T"
   ]
  },
  {
   "cell_type": "code",
   "execution_count": 45,
   "id": "9039b3b8",
   "metadata": {},
   "outputs": [
    {
     "data": {
      "text/plain": [
       "36842.0"
      ]
     },
     "execution_count": 45,
     "metadata": {},
     "output_type": "execute_result"
    }
   ],
   "source": [
    "18421.0  *2"
   ]
  },
  {
   "cell_type": "code",
   "execution_count": null,
   "id": "fecc1cc8",
   "metadata": {},
   "outputs": [
    {
     "data": {
      "text/plain": [
       "18420.57142857148"
      ]
     },
     "execution_count": 55,
     "metadata": {},
     "output_type": "execute_result"
    }
   ],
   "source": [
    "estimated_node_hours(5) * 72"
   ]
  },
  {
   "cell_type": "code",
   "execution_count": 49,
   "id": "74fec7bb",
   "metadata": {},
   "outputs": [
    {
     "data": {
      "text/plain": [
       "18144"
      ]
     },
     "execution_count": 49,
     "metadata": {},
     "output_type": "execute_result"
    }
   ],
   "source": [
    "504 * 36"
   ]
  },
  {
   "cell_type": "markdown",
   "id": "365d2ca9",
   "metadata": {},
   "source": [
    "## 2025"
   ]
  },
  {
   "cell_type": "code",
   "execution_count": 140,
   "id": "1b4d85c3",
   "metadata": {},
   "outputs": [],
   "source": [
    "tab = pd.DataFrame(index=['node hours', 'storage (Gb)'])"
   ]
  },
  {
   "cell_type": "code",
   "execution_count": null,
   "id": "8efc1469",
   "metadata": {},
   "outputs": [],
   "source": [
    "n_sims = 18 * 126 * 4\n",
    "n_days = 5\n",
    "n_variables = 42\n",
    "tab['4 additional summer ensembles'] = [estimated_node_hours(n_days) * n_sims, size_per_grid_gb * n_sims * n_days * n_variables]"
   ]
  },
  {
   "cell_type": "code",
   "execution_count": 145,
   "id": "4a00eeff",
   "metadata": {},
   "outputs": [],
   "source": [
    "n_sims = 18 * 126 * 8\n",
    "n_days = 5\n",
    "n_variables = 42\n",
    "tab['8 soilmoisture summer ensembles'] = [estimated_node_hours(n_days) * n_sims, size_per_grid_gb * n_sims * n_days * n_variables]"
   ]
  },
  {
   "cell_type": "code",
   "execution_count": 150,
   "id": "ae4cddfb",
   "metadata": {},
   "outputs": [],
   "source": [
    "n_sims = 24 * 126 * 8\n",
    "n_days = 7\n",
    "n_variables = 25\n",
    "tab['8 low NEP ensembles'] = [estimated_node_hours(n_days) * n_sims, size_per_grid_gb * n_sims * n_days * n_variables]"
   ]
  },
  {
   "cell_type": "code",
   "execution_count": 152,
   "id": "4a14ce8f",
   "metadata": {},
   "outputs": [],
   "source": [
    "# initial condistions\n",
    "n_sims = 5\n",
    "n_days = 30\n",
    "tab['Dunkelflauten'] = [estimated_node_hours(n_days) * n_sims, 15 * n_sims]\n",
    "# boosting\n",
    "n_sims = 1000\n",
    "n_days = 20\n",
    "n_variables = 25\n",
    "tab['Dunkelflauten'] += [estimated_node_hours(n_days) * n_sims, size_per_grid_gb * n_sims * n_days * n_variables]"
   ]
  },
  {
   "cell_type": "code",
   "execution_count": 154,
   "id": "aa95c229",
   "metadata": {},
   "outputs": [],
   "source": [
    "# initial condistions\n",
    "n_sims = 126\n",
    "n_days = 30*5\n",
    "tab['SH polar vortex'] = [estimated_node_hours(n_days) * n_sims, 15 * n_sims]\n",
    "# boosting\n",
    "n_sims = 126 * 3 * 20\n",
    "n_days = 7\n",
    "n_variables = 25\n",
    "tab['SH polar vortex'] += [estimated_node_hours(n_days) * n_sims, size_per_grid_gb * n_sims * n_days * n_variables]"
   ]
  },
  {
   "cell_type": "code",
   "execution_count": 163,
   "id": "c1e5bcd9",
   "metadata": {},
   "outputs": [
    {
     "data": {
      "text/html": [
       "<div>\n",
       "<style scoped>\n",
       "    .dataframe tbody tr th:only-of-type {\n",
       "        vertical-align: middle;\n",
       "    }\n",
       "\n",
       "    .dataframe tbody tr th {\n",
       "        vertical-align: top;\n",
       "    }\n",
       "\n",
       "    .dataframe thead th {\n",
       "        text-align: right;\n",
       "    }\n",
       "</style>\n",
       "<table border=\"1\" class=\"dataframe\">\n",
       "  <thead>\n",
       "    <tr style=\"text-align: right;\">\n",
       "      <th></th>\n",
       "      <th>node hours</th>\n",
       "      <th>storage (Gb)</th>\n",
       "    </tr>\n",
       "  </thead>\n",
       "  <tbody>\n",
       "    <tr>\n",
       "      <th>4 additional summer ensembles</th>\n",
       "      <td>4605.0</td>\n",
       "      <td>402.0</td>\n",
       "    </tr>\n",
       "    <tr>\n",
       "      <th>8 soilmoisture summer ensembles</th>\n",
       "      <td>9210.0</td>\n",
       "      <td>804.0</td>\n",
       "    </tr>\n",
       "    <tr>\n",
       "      <th>8 low NEP ensembles</th>\n",
       "      <td>14964.0</td>\n",
       "      <td>894.0</td>\n",
       "    </tr>\n",
       "    <tr>\n",
       "      <th>Dunkelflauten</th>\n",
       "      <td>1349.0</td>\n",
       "      <td>181.0</td>\n",
       "    </tr>\n",
       "    <tr>\n",
       "      <th>SH polar vortex</th>\n",
       "      <td>5753.0</td>\n",
       "      <td>2169.0</td>\n",
       "    </tr>\n",
       "  </tbody>\n",
       "</table>\n",
       "</div>"
      ],
      "text/plain": [
       "                                 node hours  storage (Gb)\n",
       "4 additional summer ensembles        4605.0         402.0\n",
       "8 soilmoisture summer ensembles      9210.0         804.0\n",
       "8 low NEP ensembles                 14964.0         894.0\n",
       "Dunkelflauten                        1349.0         181.0\n",
       "SH polar vortex                      5753.0        2169.0"
      ]
     },
     "execution_count": 163,
     "metadata": {},
     "output_type": "execute_result"
    }
   ],
   "source": [
    "tab.round().T"
   ]
  },
  {
   "cell_type": "code",
   "execution_count": 160,
   "id": "28c20d4b",
   "metadata": {},
   "outputs": [],
   "source": [
    "tab.round().T.to_csv('estimate_2025.csv')"
   ]
  },
  {
   "cell_type": "markdown",
   "id": "9dae11b8",
   "metadata": {},
   "source": [
    "## 2024 October estimates"
   ]
  },
  {
   "cell_type": "markdown",
   "id": "a1af1b1a",
   "metadata": {},
   "source": [
    "### importance sampling ensemble"
   ]
  },
  {
   "cell_type": "code",
   "execution_count": 13,
   "id": "43308f93",
   "metadata": {},
   "outputs": [],
   "source": [
    "N_initial = 42 * 10"
   ]
  },
  {
   "cell_type": "code",
   "execution_count": 59,
   "id": "36894bf5",
   "metadata": {},
   "outputs": [],
   "source": [
    "d = pd.DataFrame(columns=['description','node hours'])"
   ]
  },
  {
   "cell_type": "code",
   "execution_count": 60,
   "id": "472b7344",
   "metadata": {},
   "outputs": [],
   "source": [
    "# prepare restart files\n",
    "# simulate until end of May\n",
    "d.loc[len(d.index)] = [f'prepare restart files end of May ({N_initial})', estimated_node_hours(30*5) * N_initial]"
   ]
  },
  {
   "cell_type": "code",
   "execution_count": 61,
   "id": "e747237d",
   "metadata": {},
   "outputs": [],
   "source": [
    "# one batch of importance sampling JJA\n",
    "# 8d periods\n",
    "d.loc[len(d.index)] = [f'i) importance sampling JJA with tau=8d ({N_initial}) runs' , estimated_node_hours(8) * N_initial * (92 / 8)]\n",
    "d.loc[len(d.index)] = [f'ii) importance sampling JJA with tau=8d ({N_initial}) runs' , estimated_node_hours(8) * N_initial * (92 / 8)]\n",
    "d.loc[len(d.index)] = [f'iii) importance sampling JJA with tau=8d ({N_initial}) runs' , estimated_node_hours(8) * N_initial * (92 / 8)]"
   ]
  },
  {
   "cell_type": "markdown",
   "id": "a2e07868",
   "metadata": {},
   "source": [
    "### stratospheric vortex simulations\n"
   ]
  },
  {
   "cell_type": "code",
   "execution_count": 62,
   "id": "ed179e71",
   "metadata": {},
   "outputs": [],
   "source": [
    "# prepare restart files\n",
    "# simulate until end of September (starting from End of May)\n",
    "d.loc[len(d.index)] = [f'prepare restart files end of September (20?)', estimated_node_hours(30*4) * 20]"
   ]
  },
  {
   "cell_type": "code",
   "execution_count": 63,
   "id": "80fa1cfe",
   "metadata": {},
   "outputs": [],
   "source": [
    "# get early and late vortex start\n",
    "for i in range(10):\n",
    "    d.loc[len(d.index)] = [f'{i}) 10 times early & late' , estimated_node_hours(15) * 4 * 50]\n",
    "    d.loc[len(d.index)] = [f'{i}) finish simulations' , estimated_node_hours(90) * 20]"
   ]
  },
  {
   "cell_type": "code",
   "execution_count": 64,
   "id": "a982d185",
   "metadata": {},
   "outputs": [
    {
     "data": {
      "text/html": [
       "<div>\n",
       "<style scoped>\n",
       "    .dataframe tbody tr th:only-of-type {\n",
       "        vertical-align: middle;\n",
       "    }\n",
       "\n",
       "    .dataframe tbody tr th {\n",
       "        vertical-align: top;\n",
       "    }\n",
       "\n",
       "    .dataframe thead th {\n",
       "        text-align: right;\n",
       "    }\n",
       "</style>\n",
       "<table border=\"1\" class=\"dataframe\">\n",
       "  <thead>\n",
       "    <tr style=\"text-align: right;\">\n",
       "      <th></th>\n",
       "      <th>description</th>\n",
       "      <th>node hours</th>\n",
       "    </tr>\n",
       "  </thead>\n",
       "  <tbody>\n",
       "    <tr>\n",
       "      <th>0</th>\n",
       "      <td>prepare restart files end of May (420)</td>\n",
       "      <td>3289.113151</td>\n",
       "    </tr>\n",
       "    <tr>\n",
       "      <th>1</th>\n",
       "      <td>i) importance sampling JJA with tau=8d (420) runs</td>\n",
       "      <td>2937.180859</td>\n",
       "    </tr>\n",
       "    <tr>\n",
       "      <th>2</th>\n",
       "      <td>ii) importance sampling JJA with tau=8d (420) ...</td>\n",
       "      <td>2937.180859</td>\n",
       "    </tr>\n",
       "    <tr>\n",
       "      <th>3</th>\n",
       "      <td>iii) importance sampling JJA with tau=8d (420)...</td>\n",
       "      <td>2937.180859</td>\n",
       "    </tr>\n",
       "    <tr>\n",
       "      <th>4</th>\n",
       "      <td>prepare restart files end of September (20?)</td>\n",
       "      <td>126.104253</td>\n",
       "    </tr>\n",
       "    <tr>\n",
       "      <th>5</th>\n",
       "      <td>0) 10 times early &amp; late</td>\n",
       "      <td>192.836155</td>\n",
       "    </tr>\n",
       "    <tr>\n",
       "      <th>6</th>\n",
       "      <td>0) finish simulations</td>\n",
       "      <td>95.584071</td>\n",
       "    </tr>\n",
       "    <tr>\n",
       "      <th>7</th>\n",
       "      <td>1) 10 times early &amp; late</td>\n",
       "      <td>192.836155</td>\n",
       "    </tr>\n",
       "    <tr>\n",
       "      <th>8</th>\n",
       "      <td>1) finish simulations</td>\n",
       "      <td>95.584071</td>\n",
       "    </tr>\n",
       "    <tr>\n",
       "      <th>9</th>\n",
       "      <td>2) 10 times early &amp; late</td>\n",
       "      <td>192.836155</td>\n",
       "    </tr>\n",
       "    <tr>\n",
       "      <th>10</th>\n",
       "      <td>2) finish simulations</td>\n",
       "      <td>95.584071</td>\n",
       "    </tr>\n",
       "    <tr>\n",
       "      <th>11</th>\n",
       "      <td>3) 10 times early &amp; late</td>\n",
       "      <td>192.836155</td>\n",
       "    </tr>\n",
       "    <tr>\n",
       "      <th>12</th>\n",
       "      <td>3) finish simulations</td>\n",
       "      <td>95.584071</td>\n",
       "    </tr>\n",
       "    <tr>\n",
       "      <th>13</th>\n",
       "      <td>4) 10 times early &amp; late</td>\n",
       "      <td>192.836155</td>\n",
       "    </tr>\n",
       "    <tr>\n",
       "      <th>14</th>\n",
       "      <td>4) finish simulations</td>\n",
       "      <td>95.584071</td>\n",
       "    </tr>\n",
       "    <tr>\n",
       "      <th>15</th>\n",
       "      <td>5) 10 times early &amp; late</td>\n",
       "      <td>192.836155</td>\n",
       "    </tr>\n",
       "    <tr>\n",
       "      <th>16</th>\n",
       "      <td>5) finish simulations</td>\n",
       "      <td>95.584071</td>\n",
       "    </tr>\n",
       "    <tr>\n",
       "      <th>17</th>\n",
       "      <td>6) 10 times early &amp; late</td>\n",
       "      <td>192.836155</td>\n",
       "    </tr>\n",
       "    <tr>\n",
       "      <th>18</th>\n",
       "      <td>6) finish simulations</td>\n",
       "      <td>95.584071</td>\n",
       "    </tr>\n",
       "    <tr>\n",
       "      <th>19</th>\n",
       "      <td>7) 10 times early &amp; late</td>\n",
       "      <td>192.836155</td>\n",
       "    </tr>\n",
       "    <tr>\n",
       "      <th>20</th>\n",
       "      <td>7) finish simulations</td>\n",
       "      <td>95.584071</td>\n",
       "    </tr>\n",
       "    <tr>\n",
       "      <th>21</th>\n",
       "      <td>8) 10 times early &amp; late</td>\n",
       "      <td>192.836155</td>\n",
       "    </tr>\n",
       "    <tr>\n",
       "      <th>22</th>\n",
       "      <td>8) finish simulations</td>\n",
       "      <td>95.584071</td>\n",
       "    </tr>\n",
       "    <tr>\n",
       "      <th>23</th>\n",
       "      <td>9) 10 times early &amp; late</td>\n",
       "      <td>192.836155</td>\n",
       "    </tr>\n",
       "    <tr>\n",
       "      <th>24</th>\n",
       "      <td>9) finish simulations</td>\n",
       "      <td>95.584071</td>\n",
       "    </tr>\n",
       "  </tbody>\n",
       "</table>\n",
       "</div>"
      ],
      "text/plain": [
       "                                          description   node hours\n",
       "0              prepare restart files end of May (420)  3289.113151\n",
       "1   i) importance sampling JJA with tau=8d (420) runs  2937.180859\n",
       "2   ii) importance sampling JJA with tau=8d (420) ...  2937.180859\n",
       "3   iii) importance sampling JJA with tau=8d (420)...  2937.180859\n",
       "4        prepare restart files end of September (20?)   126.104253\n",
       "5                            0) 10 times early & late   192.836155\n",
       "6                               0) finish simulations    95.584071\n",
       "7                            1) 10 times early & late   192.836155\n",
       "8                               1) finish simulations    95.584071\n",
       "9                            2) 10 times early & late   192.836155\n",
       "10                              2) finish simulations    95.584071\n",
       "11                           3) 10 times early & late   192.836155\n",
       "12                              3) finish simulations    95.584071\n",
       "13                           4) 10 times early & late   192.836155\n",
       "14                              4) finish simulations    95.584071\n",
       "15                           5) 10 times early & late   192.836155\n",
       "16                              5) finish simulations    95.584071\n",
       "17                           6) 10 times early & late   192.836155\n",
       "18                              6) finish simulations    95.584071\n",
       "19                           7) 10 times early & late   192.836155\n",
       "20                              7) finish simulations    95.584071\n",
       "21                           8) 10 times early & late   192.836155\n",
       "22                              8) finish simulations    95.584071\n",
       "23                           9) 10 times early & late   192.836155\n",
       "24                              9) finish simulations    95.584071"
      ]
     },
     "execution_count": 64,
     "metadata": {},
     "output_type": "execute_result"
    }
   ],
   "source": [
    "d"
   ]
  },
  {
   "cell_type": "code",
   "execution_count": 67,
   "id": "dcc7823d",
   "metadata": {},
   "outputs": [
    {
     "data": {
      "text/plain": [
       "np.float64(15111.0)"
      ]
     },
     "execution_count": 67,
     "metadata": {},
     "output_type": "execute_result"
    }
   ],
   "source": [
    "d.iloc[:,1].sum().round()"
   ]
  },
  {
   "cell_type": "markdown",
   "id": "82a725f5",
   "metadata": {},
   "source": [
    "# other"
   ]
  },
  {
   "cell_type": "code",
   "execution_count": null,
   "id": "e6616c98",
   "metadata": {},
   "outputs": [
    {
     "name": "stdout",
     "output_type": "stream",
     "text": [
      "4:41:30\n"
     ]
    }
   ],
   "source": [
    "elapsed_time(365)"
   ]
  },
  {
   "cell_type": "code",
   "execution_count": 3,
   "id": "02ff693f",
   "metadata": {},
   "outputs": [
    {
     "data": {
      "text/plain": [
       "18.51328559027778"
      ]
     },
     "execution_count": 3,
     "metadata": {},
     "output_type": "execute_result"
    }
   ],
   "source": [
    "estimated_node_hours(360)"
   ]
  },
  {
   "cell_type": "code",
   "execution_count": 4,
   "id": "4a5b8ade",
   "metadata": {},
   "outputs": [
    {
     "data": {
      "text/plain": [
       "20.726223958333332"
      ]
     },
     "execution_count": 4,
     "metadata": {},
     "output_type": "execute_result"
    }
   ],
   "source": [
    "estimated_node_hours(30) * 12"
   ]
  },
  {
   "cell_type": "code",
   "execution_count": 5,
   "id": "4d7a7532",
   "metadata": {},
   "outputs": [
    {
     "data": {
      "text/plain": [
       "0.8932300272107306"
      ]
     },
     "execution_count": 5,
     "metadata": {},
     "output_type": "execute_result"
    }
   ],
   "source": [
    "estimated_node_hours(360) / (estimated_node_hours(30) * 12)"
   ]
  },
  {
   "cell_type": "code",
   "execution_count": 6,
   "id": "f5746dc2",
   "metadata": {},
   "outputs": [
    {
     "name": "stdout",
     "output_type": "stream",
     "text": [
      "AllocCPUS CPUTimeRAW    Elapsed   NNodes    JobName \n",
      "---------- ---------- ---------- -------- ---------- \n",
      "      1024   16055296   04:21:19        4 run.b.e21+ \n",
      "       256    4013824   04:21:19        1      batch \n",
      "      1024   16055296   04:21:19        4     extern \n",
      "      1024   16025600   04:20:50        4   cesm.exe \n",
      "       256      41472   00:02:42        1 st_archiv+ \n",
      "       256      41472   00:02:42        1      batch \n",
      "       256      41472   00:02:42        1     extern \n",
      "      1024   16258048   04:24:37        4 run.b.e21+ \n"
     ]
    }
   ],
   "source": [
    "sacct_out = subprocess.run('sacct -S 0701 -E0801 -o alloccpus,cputimeraw,elapsed,nnodes,jobname', shell=True, capture_output=True).stdout.strip()\n",
    "sacct_out = sacct_out.decode('utf8').split('\\n')\n",
    "for line in sacct_out[:10]:\n",
    "    print(line)"
   ]
  },
  {
   "cell_type": "code",
   "execution_count": 7,
   "id": "370fa472",
   "metadata": {},
   "outputs": [
    {
     "data": {
      "text/plain": [
       "1707076608"
      ]
     },
     "execution_count": 7,
     "metadata": {},
     "output_type": "execute_result"
    }
   ],
   "source": [
    "seconds = 0\n",
    "for line in sacct_out:\n",
    "    if 'cesm.exe' in line:\n",
    "        seconds += int(line.split()[1])\n",
    "seconds"
   ]
  },
  {
   "cell_type": "code",
   "execution_count": 8,
   "id": "60529635",
   "metadata": {},
   "outputs": [
    {
     "data": {
      "text/plain": [
       "1852.2966666666666"
      ]
     },
     "execution_count": 8,
     "metadata": {},
     "output_type": "execute_result"
    }
   ],
   "source": [
    "seconds / 60 / 60 / 256"
   ]
  },
  {
   "cell_type": "code",
   "execution_count": 9,
   "id": "f4ab9469",
   "metadata": {},
   "outputs": [
    {
     "data": {
      "text/plain": [
       "17.42111111111111"
      ]
     },
     "execution_count": 9,
     "metadata": {},
     "output_type": "execute_result"
    }
   ],
   "source": [
    "16055296 / 60 / 60 / 256"
   ]
  },
  {
   "cell_type": "code",
   "execution_count": 10,
   "id": "724470d6",
   "metadata": {},
   "outputs": [
    {
     "data": {
      "text/plain": [
       "17296239"
      ]
     },
     "execution_count": 10,
     "metadata": {},
     "output_type": "execute_result"
    }
   ],
   "source": [
    "computation_time(365)"
   ]
  },
  {
   "cell_type": "code",
   "execution_count": null,
   "id": "ab084142",
   "metadata": {},
   "outputs": [],
   "source": []
  }
 ],
 "metadata": {
  "kernelspec": {
   "display_name": "py_gmlnet",
   "language": "python",
   "name": "python3"
  },
  "language_info": {
   "codemirror_mode": {
    "name": "ipython",
    "version": 3
   },
   "file_extension": ".py",
   "mimetype": "text/x-python",
   "name": "python",
   "nbconvert_exporter": "python",
   "pygments_lexer": "ipython3",
   "version": "3.9.18"
  }
 },
 "nbformat": 4,
 "nbformat_minor": 5
}
