{
 "cells": [
  {
   "cell_type": "code",
   "execution_count": 1,
   "metadata": {},
   "outputs": [],
   "source": [
    "import os,sys,subprocess,glob,cftime,importlib,pickle,itertools\n",
    "from datetime import datetime\n",
    "import xarray as xr\n",
    "import numpy as np\n",
    "sys.path.append('../')\n",
    "\n",
    "from ensembles.ensemble_GKLT import ensemble_GKLT,get_weight_for_selection\n",
    "from data_extractor import extract\n",
    "\n",
    "%load_ext autoreload\n",
    "%autoreload 2"
   ]
  },
  {
   "cell_type": "code",
   "execution_count": 2,
   "metadata": {},
   "outputs": [],
   "source": [
    "\n",
    "\n",
    "class command_line_arguments:\n",
    "    project_path = '../../REA_heat_wEU_JJA/'\n",
    "    experiment_identifiers = ['c1']\n"
   ]
  },
  {
   "cell_type": "code",
   "execution_count": null,
   "metadata": {},
   "outputs": [],
   "source": [
    "naming_d = {\n",
    "    \"project\": 'REA_output',\n",
    "    \"product\": exp.product_name,\n",
    "    \"institute\": 'NCAR',\n",
    "    \"model\": 'CESM2',\n",
    "    \"experiment\" : f\"{exp.initial_conditions_name}-x{exp.experiment_identifier[1]}\",\n",
    "    \"realm\": \"meta\",\n",
    "}"
   ]
  },
  {
   "cell_type": "code",
   "execution_count": null,
   "metadata": {},
   "outputs": [
    {
     "name": "stdout",
     "output_type": "stream",
     "text": [
      "c1\n"
     ]
    }
   ],
   "source": [
    "\n",
    "sys.path.append(command_line_arguments.project_path)\n",
    "from experiment_configuration.experiment import experiment\n",
    "\n",
    "for experiment_identifier in command_line_arguments.experiment_identifiers:\n",
    "    print(experiment_identifier)\n",
    "    # load experiment configuration settings\n",
    "\n",
    "    exp = experiment(importlib.import_module(f\"experiment_configuration.{experiment_identifier}\").config)\n",
    "\n",
    "    ens = ensemble_GKLT(exp)\n",
    "    ens.evaluate_weights_and_probabilities()\n",
    "\n",
    "    out_dir = '/'.join([exp.dir_work] + [v for k,v in naming_d.items()])\n",
    "    xr.Dataset({'probability':ens._prob}).to_netcdf(f\"{out_dir}/probability_season_{naming_d['experiment']}.nc\")\n",
    "    xr.Dataset({'weight':ens._weight_from_algo}).to_netcdf(f\"{out_dir}/weight_season_{naming_d['experiment']}.nc\")"
   ]
  },
  {
   "cell_type": "code",
   "execution_count": null,
   "metadata": {},
   "outputs": [],
   "source": []
  }
 ],
 "metadata": {
  "kernelspec": {
   "display_name": "py_gmlnet",
   "language": "python",
   "name": "python3"
  },
  "language_info": {
   "codemirror_mode": {
    "name": "ipython",
    "version": 3
   },
   "file_extension": ".py",
   "mimetype": "text/x-python",
   "name": "python",
   "nbconvert_exporter": "python",
   "pygments_lexer": "ipython3",
   "version": "3.9.21"
  }
 },
 "nbformat": 4,
 "nbformat_minor": 2
}
